{
 "cells": [
  {
   "cell_type": "markdown",
   "id": "d4ecea61-ca06-4e02-b671-cea900ff90f1",
   "metadata": {},
   "source": [
    "# Amperon Data Engineering Take Home Assignment"
   ]
  },
  {
   "cell_type": "markdown",
   "id": "c59946be-df0a-4b6a-b7f6-f9eb2a544419",
   "metadata": {
    "jp-MarkdownHeadingCollapsed": true
   },
   "source": [
    "## 1.0 Imports and Setup"
   ]
  },
  {
   "cell_type": "code",
   "execution_count": 1,
   "id": "441c4275-2715-4f0a-bee2-c23fc079e9cd",
   "metadata": {},
   "outputs": [],
   "source": [
    "import pandas as pd\n",
    "import numpy as np\n",
    "from matplotlib import pyplot as plt\n",
    "import matplotlib.dates as mdates\n",
    "\n",
    "import plotly.graph_objs as go\n",
    "import ipywidgets as widgets\n",
    "from IPython.display import display\n",
    "import plotly.io as pio\n",
    "\n",
    "from tomorrow.db_utils import setup_database\n",
    "from tomorrow.config import get_database_url"
   ]
  },
  {
   "cell_type": "code",
   "execution_count": 2,
   "id": "57cde308-b247-47a4-8122-bd445f9974da",
   "metadata": {},
   "outputs": [],
   "source": [
    "db_url = get_database_url()\n",
    "Session = setup_database(db_url)  \n",
    "session = Session()  "
   ]
  },
  {
   "cell_type": "code",
   "execution_count": 3,
   "id": "7f45cecd-7605-464b-9e01-adfc0635c58f",
   "metadata": {},
   "outputs": [],
   "source": [
    "df_minutely = pd.read_sql_table(\"weather_data_minutely\", session.bind)\n",
    "df_hourly = pd.read_sql_table(\"weather_data_hourly\", session.bind)\n",
    "df_daily = pd.read_sql_table(\"weather_data_daily\", session.bind)\n",
    "\n",
    "dataframes = { \"minutely\": df_minutely, \"hourly\": df_hourly, \"daily\": df_daily}"
   ]
  },
  {
   "cell_type": "markdown",
   "id": "ce283151-e02f-4dab-8fe5-2d30f09b0250",
   "metadata": {
    "jp-MarkdownHeadingCollapsed": true
   },
   "source": [
    "## 2.0 Query Data"
   ]
  },
  {
   "cell_type": "code",
   "execution_count": 4,
   "id": "86ec12b8-f2ce-4fcf-ba6a-d9aadb049b4e",
   "metadata": {},
   "outputs": [
    {
     "data": {
      "application/vnd.jupyter.widget-view+json": {
       "model_id": "36e3ee4613904fb4afb17dede8432661",
       "version_major": 2,
       "version_minor": 0
      },
      "text/plain": [
       "Dropdown(description='Location:', options=('25.8600,-97.4200', '25.9000,-97.5200', '25.9000,-97.4400', '25.940…"
      ]
     },
     "metadata": {},
     "output_type": "display_data"
    },
    {
     "data": {
      "application/vnd.jupyter.widget-view+json": {
       "model_id": "ed3a83fa500b43458e17e71888ffe91a",
       "version_major": 2,
       "version_minor": 0
      },
      "text/plain": [
       "Dropdown(description='Granularity:', options=('minutely', 'hourly', 'daily'), value='minutely')"
      ]
     },
     "metadata": {},
     "output_type": "display_data"
    },
    {
     "name": "stdout",
     "output_type": "stream",
     "text": [
      "\n",
      "\n",
      "\n",
      " time                                2024-04-26 04:15:00\n",
      "location                               25.8600,-97.4200\n",
      "cloud_base                                         0.17\n",
      "cloud_ceiling                                      0.15\n",
      "cloud_cover                                       100.0\n",
      "dew_point                                         23.31\n",
      "freezing_rain_intensity                             0.0\n",
      "humidity                                          88.08\n",
      "precipitation_probability                           0.0\n",
      "pressure_surface_level                          1008.05\n",
      "rain_intensity                                      0.0\n",
      "sleet_intensity                                     0.0\n",
      "snow_intensity                                      0.0\n",
      "temperature                                       25.28\n",
      "temperature_apparent                              25.28\n",
      "uv_health_concern                                     0\n",
      "uv_index                                              0\n",
      "visibility                                        12.01\n",
      "weather_code                                       1001\n",
      "wind_direction                                   149.99\n",
      "wind_gust                                         12.88\n",
      "wind_speed                                         6.84\n",
      "created_at                   2024-04-26 03:16:59.071381\n",
      "updated_at                   2024-04-26 03:16:59.071382\n",
      "Name: 1767, dtype: object\n"
     ]
    }
   ],
   "source": [
    "import ipywidgets as widgets\n",
    "from IPython.display import display, clear_output\n",
    "import pandas as pd\n",
    "\n",
    "\n",
    "# Define a function to fetch the latest row based on location and granularity\n",
    "def fetch_latest_row(location, granularity):\n",
    "    df = dataframes[granularity]\n",
    "    latest_row = df[df['location'] == location].sort_values(by='time', ascending=False).head(1)\n",
    "    return latest_row\n",
    "\n",
    "# Function to handle widget interaction\n",
    "def on_change(change):\n",
    "    if change['type'] == 'change' and change['name'] == 'value':\n",
    "        granularity = granularity_dropdown.value\n",
    "        location = location_dropdown.value\n",
    "        df = fetch_latest_row(location, granularity)\n",
    "        print(\"\\n\"*3, df.iloc[0])\n",
    "\n",
    "# Create dropdown for location\n",
    "location_dropdown = widgets.Dropdown(\n",
    "    options=['25.8600,-97.4200', '25.9000,-97.5200', '25.9000,-97.4400',\n",
    "             '25.9400,-97.5400', '25.9000,-97.4800', '25.9000,-97.4000',\n",
    "             '25.9200,-97.3800', '25.9400,-97.5200', '25.9400,-97.4800',\n",
    "             '25.9400,-97.4400'],\n",
    "    description='Location:',\n",
    "    disabled=False,\n",
    ")\n",
    "\n",
    "# Create dropdown for granularity\n",
    "granularity_dropdown = widgets.Dropdown(\n",
    "    options=['minutely', 'hourly', 'daily'],\n",
    "    description='Granularity:',\n",
    "    disabled=False,\n",
    ")\n",
    "\n",
    "# Display widgets and set up event to update on change\n",
    "location_dropdown.observe(on_change)\n",
    "granularity_dropdown.observe(on_change)\n",
    "display(location_dropdown)  # Displaying location dropdown\n",
    "display(granularity_dropdown)  # Displaying granularity dropdown\n",
    "\n",
    "# Initialize display\n",
    "on_change({'type': 'change', 'name': 'value', 'owner': granularity_dropdown})"
   ]
  },
  {
   "cell_type": "markdown",
   "id": "6c1240cc-c501-4b3d-a45a-efd3457e5693",
   "metadata": {},
   "source": [
    "## 3.0 Visualisations"
   ]
  },
  {
   "cell_type": "markdown",
   "id": "739ab48d-1c24-4e30-bc2a-64c116a51f09",
   "metadata": {
    "jp-MarkdownHeadingCollapsed": true
   },
   "source": [
    "### 3.1 Time Series Graphs"
   ]
  },
  {
   "cell_type": "code",
   "execution_count": 5,
   "id": "a714e875-9352-4840-8487-8c4586e45bab",
   "metadata": {},
   "outputs": [],
   "source": [
    "# Dropdown for granularity\n",
    "granularity_dropdown = widgets.Dropdown(\n",
    "    options=list(dataframes.keys()),\n",
    "    value='daily',\n",
    "    description='Granularity:',\n",
    "    disabled=False,\n",
    ")\n",
    "\n",
    "# Dropdown for location, initialized empty\n",
    "location_dropdown = widgets.Dropdown(\n",
    "    options=[],\n",
    "    value=None,\n",
    "    description='Location:',\n",
    "    disabled=False,\n",
    ")\n",
    "\n",
    "# Dropdown for variables, initialized empty\n",
    "variable_dropdown = widgets.Dropdown(\n",
    "    options=[],\n",
    "    value=None,\n",
    "    description='Variable:',\n",
    "    disabled=False,\n",
    ")\n",
    "\n",
    "# Function to update locations based on dataframe selection\n",
    "def update_locations(*args):\n",
    "    df = dataframes[granularity_dropdown.value]\n",
    "    locations = sorted(df['location'].unique())\n",
    "    location_dropdown.options = locations\n",
    "    location_dropdown.value = locations[0] if locations else None\n",
    "\n",
    "# Function to update variables based on dataframe selection\n",
    "def update_variables(*args):\n",
    "    df = dataframes[granularity_dropdown.value]\n",
    "    variables = sorted(df.select_dtypes(include=[np.number]).columns.tolist())\n",
    "    variable_dropdown.options = variables\n",
    "    variable_dropdown.value = variables[0] if variables else None\n",
    "\n",
    "# Attach the update function to granularity dropdown value changes\n",
    "granularity_dropdown.observe(update_locations, 'value')\n",
    "granularity_dropdown.observe(update_variables, 'value')\n",
    "\n",
    "# Plotting function\n",
    "def plot_data(granularity, location, variable):\n",
    "    if location and variable:\n",
    "        df = dataframes[granularity]\n",
    "        data = df[df['location'] == location]\n",
    "        data_sorted = data.sort_values('time')\n",
    "        plt.style.use('ggplot')\n",
    "        fig, ax = plt.subplots(figsize=(12, 6))\n",
    "        ax.plot(data_sorted['time'], data_sorted[variable], marker='o', linestyle='-', label=variable)\n",
    "        ax.set_title(f'{variable.capitalize()} over Time at {location} ({granularity.capitalize()})', fontsize=16)\n",
    "        ax.set_xlabel('Time', fontsize=14)\n",
    "        ax.set_ylabel(variable.replace('_', ' ').capitalize(), fontsize=14)\n",
    "        ax.xaxis.set_major_formatter(mdates.DateFormatter('%Y-%m-%d %H:%M'))\n",
    "        ax.xaxis.set_major_locator(mdates.AutoDateLocator())\n",
    "        fig.autofmt_xdate()\n",
    "        ax.grid(True)\n",
    "        ax.legend()\n",
    "        plt.tight_layout()\n",
    "        plt.show()\n"
   ]
  },
  {
   "cell_type": "code",
   "execution_count": 6,
   "id": "1d94f667-1a47-40d3-85a2-eeef3c89cedc",
   "metadata": {},
   "outputs": [
    {
     "data": {
      "application/vnd.jupyter.widget-view+json": {
       "model_id": "33aab31b89264d4c9b762151ba492de5",
       "version_major": 2,
       "version_minor": 0
      },
      "text/plain": [
       "Dropdown(description='Granularity:', index=2, options=('minutely', 'hourly', 'daily'), value='daily')"
      ]
     },
     "metadata": {},
     "output_type": "display_data"
    },
    {
     "data": {
      "application/vnd.jupyter.widget-view+json": {
       "model_id": "ae6936db9755409e934fa17142e70605",
       "version_major": 2,
       "version_minor": 0
      },
      "text/plain": [
       "Dropdown(description='Location:', options=('25.8600,-97.4200', '25.9000,-97.4000', '25.9000,-97.4400', '25.900…"
      ]
     },
     "metadata": {},
     "output_type": "display_data"
    },
    {
     "data": {
      "application/vnd.jupyter.widget-view+json": {
       "model_id": "3e542e30672c4d8197cb71d987affb7c",
       "version_major": 2,
       "version_minor": 0
      },
      "text/plain": [
       "Dropdown(description='Variable:', options=('cloud_base_avg', 'cloud_base_max', 'cloud_base_min', 'cloud_ceilin…"
      ]
     },
     "metadata": {},
     "output_type": "display_data"
    },
    {
     "data": {
      "application/vnd.jupyter.widget-view+json": {
       "model_id": "3b39aa7b43c0427ba6089bc71304ea26",
       "version_major": 2,
       "version_minor": 0
      },
      "text/plain": [
       "Output()"
      ]
     },
     "metadata": {},
     "output_type": "display_data"
    }
   ],
   "source": [
    "interactive_plot = widgets.interactive_output(\n",
    "    plot_data, {'granularity': granularity_dropdown, 'location': location_dropdown, 'variable': variable_dropdown}\n",
    ")\n",
    "\n",
    "update_locations()\n",
    "update_variables()\n",
    "display(granularity_dropdown, location_dropdown, variable_dropdown, interactive_plot)"
   ]
  },
  {
   "cell_type": "markdown",
   "id": "0fcd9fec-0ba5-4fd0-9036-9809e6cb4e10",
   "metadata": {
    "jp-MarkdownHeadingCollapsed": true
   },
   "source": [
    "### 3.1 Map Visualisation"
   ]
  },
  {
   "cell_type": "code",
   "execution_count": 7,
   "id": "f9366de0-10ca-4e56-97a0-3d26a0f93722",
   "metadata": {},
   "outputs": [
    {
     "name": "stderr",
     "output_type": "stream",
     "text": [
      "/tmp/ipykernel_1741/2189993517.py:6: PerformanceWarning:\n",
      "\n",
      "DataFrame is highly fragmented.  This is usually the result of calling `frame.insert` many times, which has poor performance.  Consider joining all columns at once using pd.concat(axis=1) instead. To get a de-fragmented frame, use `newframe = frame.copy()`\n",
      "\n",
      "/tmp/ipykernel_1741/2189993517.py:7: PerformanceWarning:\n",
      "\n",
      "DataFrame is highly fragmented.  This is usually the result of calling `frame.insert` many times, which has poor performance.  Consider joining all columns at once using pd.concat(axis=1) instead. To get a de-fragmented frame, use `newframe = frame.copy()`\n",
      "\n"
     ]
    },
    {
     "data": {
      "application/vnd.jupyter.widget-view+json": {
       "model_id": "b86496899c4941e7a3679589f5b03273",
       "version_major": 2,
       "version_minor": 0
      },
      "text/plain": [
       "Dropdown(description='Granularity:', index=2, options=('minutely', 'hourly', 'daily'), value='daily')"
      ]
     },
     "metadata": {},
     "output_type": "display_data"
    },
    {
     "data": {
      "application/vnd.jupyter.widget-view+json": {
       "model_id": "5903b7c468e446dfbb7925dd788a2997",
       "version_major": 2,
       "version_minor": 0
      },
      "text/plain": [
       "Dropdown(description='Variable:', options=('cloud_base_avg', 'cloud_base_max', 'cloud_base_min', 'cloud_ceilin…"
      ]
     },
     "metadata": {},
     "output_type": "display_data"
    },
    {
     "data": {
      "application/vnd.jupyter.widget-view+json": {
       "model_id": "3e0edf727c7942509d96748cec3b0749",
       "version_major": 2,
       "version_minor": 0
      },
      "text/plain": [
       "Output()"
      ]
     },
     "metadata": {},
     "output_type": "display_data"
    }
   ],
   "source": [
    "pio.renderers.default = \"iframe\"\n",
    "\n",
    "# Parse the location strings into numeric latitude and longitude\n",
    "for df in dataframes.values():\n",
    "    lat_lon = df['location'].str.split(',', expand=True).astype(float)\n",
    "    df['latitude'] = lat_lon[0]\n",
    "    df['longitude'] = lat_lon[1]\n",
    "\n",
    "# Initialize widgets\n",
    "granularity_dropdown = widgets.Dropdown(\n",
    "    options=list(dataframes.keys()),\n",
    "    value='daily',\n",
    "    description='Granularity:',\n",
    ")\n",
    "\n",
    "variable_dropdown = widgets.Dropdown(\n",
    "    description='Variable:',\n",
    ")\n",
    "\n",
    "# Function to update variable dropdown options based on selected dataframe\n",
    "def update_variable_options(*args):\n",
    "    df = dataframes[granularity_dropdown.value]\n",
    "    numeric_cols = df.select_dtypes(include=np.number).columns.tolist()\n",
    "    variable_dropdown.options = numeric_cols\n",
    "    variable_dropdown.value = numeric_cols[0]\n",
    "\n",
    "granularity_dropdown.observe(update_variable_options, 'value')\n",
    "update_variable_options()\n",
    "\n",
    "# Plotting function using Plotly for bubble map\n",
    "def plot_bubble_map(granularity, variable):\n",
    "    df = dataframes[granularity].copy()\n",
    "\n",
    "    lat_lon = df['location'].str.split(',', expand=True).astype(float)\n",
    "    df['latitude'] = lat_lon[0]\n",
    "    df['longitude'] = lat_lon[1]\n",
    "\n",
    "    df = df.dropna(subset=['latitude', 'longitude'])\n",
    "\n",
    "    df['time'] = df['time'].astype(str)\n",
    "    df = df.sort_values('time')\n",
    "\n",
    "    df[variable] = df.groupby('location')[variable].transform(lambda x: x.ffill())\n",
    "\n",
    "    buffer = 0.5\n",
    "    lon_min, lon_max = df['longitude'].min() - buffer, df['longitude'].max() + buffer\n",
    "    lat_min, lat_max = df['latitude'].min() - buffer, df['latitude'].max() + buffer\n",
    "\n",
    "    frames = []\n",
    "    times = df['time'].unique()\n",
    "    max_bubble_size = 200\n",
    "    for time in times:\n",
    "        frame_df = df[df['time'] == time]\n",
    "        frames.append(\n",
    "            go.Frame(\n",
    "                data=[go.Scattergeo(\n",
    "                    lon=frame_df['longitude'],\n",
    "                    lat=frame_df['latitude'],\n",
    "                    text=frame_df['location'],\n",
    "                    mode='markers',\n",
    "                    marker=dict(\n",
    "                        size=np.sqrt(frame_df[variable]) * max_bubble_size / np.sqrt(frame_df[variable].max()),\n",
    "                        color=frame_df[variable],\n",
    "                        colorscale='Viridis',\n",
    "                        showscale=True,\n",
    "                        sizemode='area',\n",
    "                    )\n",
    "                )],\n",
    "                name=time\n",
    "            )\n",
    "        )\n",
    "\n",
    "    initial_data = frames[0].data\n",
    "\n",
    "    steps = []\n",
    "    for i, time in enumerate(times):\n",
    "        step = dict(\n",
    "            method=\"animate\",\n",
    "            args=[[time], {\"frame\": {\"duration\": 500, \"redraw\": True}, \"transition\": {\"duration\": 300}}],\n",
    "            label=time\n",
    "        )\n",
    "        steps.append(step)\n",
    "\n",
    "    sliders = [dict(\n",
    "        steps=steps,\n",
    "        active=0,\n",
    "        currentvalue={\"prefix\": \"Time: \"},\n",
    "        pad={\"t\": 50}\n",
    "    )]\n",
    "\n",
    "    layout = go.Layout(\n",
    "        title=f'{variable.capitalize()} over Time',\n",
    "        showlegend=False,\n",
    "        width = 1000,\n",
    "        height = 1000,\n",
    "        geo=dict(\n",
    "            scope='north america',\n",
    "            showcountries=True,\n",
    "            landcolor=\"rgb(212, 212, 212)\",\n",
    "            showocean=True,\n",
    "            oceancolor=\"lightskyblue\",\n",
    "            countrycolor=\"black\",\n",
    "            countrywidth=2,\n",
    "            projection=dict(\n",
    "                type=\"mercator\"\n",
    "            ),\n",
    "            center=dict(\n",
    "                lat=(lat_min + lat_max) / 2,\n",
    "                lon=(lon_min + lon_max) / 2\n",
    "            ),\n",
    "            lataxis={\"range\": [lat_min, lat_max]},\n",
    "            lonaxis={\"range\": [lon_min, lon_max]},\n",
    "        ),\n",
    "        sliders=[sliders[0]],\n",
    "        updatemenus=[{\n",
    "            'buttons': [\n",
    "                {\n",
    "                    'args': [None, {'frame': {'duration': 500, 'redraw': True}, 'fromcurrent': True, 'transition': {'duration': 300}}],\n",
    "                    'label': 'Play',\n",
    "                    'method': 'animate'\n",
    "                },\n",
    "                {\n",
    "                    'args': [[None], {'frame': {'duration': 0, 'redraw': True}, 'mode': 'immediate', 'transition': {'duration': 0}}],\n",
    "                    'label': 'Pause',\n",
    "                    'method': 'animate'\n",
    "                }\n",
    "            ],\n",
    "            'direction': 'left',\n",
    "            'pad': {'r': 10},\n",
    "            'showactive': False,\n",
    "            'type': 'buttons',\n",
    "            'x': 0.1,\n",
    "            'xanchor': 'right',\n",
    "            'y': 0,\n",
    "            'yanchor': 'top'\n",
    "        }]\n",
    "    )\n",
    "\n",
    "    fig = go.Figure(data=initial_data, layout=layout, frames=frames)\n",
    "    fig.show()\n",
    "\n",
    "# Call the plot function with the interactive output widget\n",
    "interactive_plot = widgets.interactive_output(\n",
    "    plot_bubble_map, \n",
    "    {'granularity': granularity_dropdown, 'variable': variable_dropdown}\n",
    ")\n",
    "\n",
    "# Display widgets and interactive plot\n",
    "display(granularity_dropdown, variable_dropdown, interactive_plot)\n"
   ]
  },
  {
   "cell_type": "code",
   "execution_count": null,
   "id": "132cb85f-8f5e-48c7-8c23-8491dc73109f",
   "metadata": {},
   "outputs": [],
   "source": []
  }
 ],
 "metadata": {
  "kernelspec": {
   "display_name": "Python 3 (ipykernel)",
   "language": "python",
   "name": "python3"
  },
  "language_info": {
   "codemirror_mode": {
    "name": "ipython",
    "version": 3
   },
   "file_extension": ".py",
   "mimetype": "text/x-python",
   "name": "python",
   "nbconvert_exporter": "python",
   "pygments_lexer": "ipython3",
   "version": "3.11.7"
  }
 },
 "nbformat": 4,
 "nbformat_minor": 5
}
