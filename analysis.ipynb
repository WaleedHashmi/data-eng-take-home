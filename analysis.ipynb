{
 "cells": [
  {
   "cell_type": "markdown",
   "id": "d4ecea61-ca06-4e02-b671-cea900ff90f1",
   "metadata": {},
   "source": [
    "# Amperon Data Engineering Take Home Assignment"
   ]
  },
  {
   "cell_type": "markdown",
   "id": "c59946be-df0a-4b6a-b7f6-f9eb2a544419",
   "metadata": {},
   "source": [
    "## 1.0 Imports and Setup"
   ]
  },
  {
   "cell_type": "code",
   "execution_count": 1,
   "id": "441c4275-2715-4f0a-bee2-c23fc079e9cd",
   "metadata": {},
   "outputs": [],
   "source": [
    "import pandas as pd\n",
    "import numpy as np\n",
    "from matplotlib import pyplot as plt\n",
    "import matplotlib.dates as mdates\n",
    "\n",
    "import plotly.graph_objs as go\n",
    "import ipywidgets as widgets\n",
    "from IPython.display import display\n",
    "import plotly.io as pio\n",
    "\n",
    "from tomorrow.db_utils import setup_database\n",
    "from tomorrow.config import get_database_url"
   ]
  },
  {
   "cell_type": "code",
   "execution_count": 2,
   "id": "57cde308-b247-47a4-8122-bd445f9974da",
   "metadata": {},
   "outputs": [],
   "source": [
    "db_url = get_database_url()\n",
    "Session = setup_database(db_url)  \n",
    "session = Session()  "
   ]
  },
  {
   "cell_type": "code",
   "execution_count": 3,
   "id": "7f45cecd-7605-464b-9e01-adfc0635c58f",
   "metadata": {},
   "outputs": [],
   "source": [
    "df_minutely = pd.read_sql_table(\"weather_data_minutely\", session.bind)\n",
    "df_hourly = pd.read_sql_table(\"weather_data_hourly\", session.bind)\n",
    "df_daily = pd.read_sql_table(\"weather_data_daily\", session.bind)\n",
    "\n",
    "dataframes = { \"minutely\": df_minutely, \"hourly\": df_hourly, \"daily\": df_daily}"
   ]
  },
  {
   "cell_type": "markdown",
   "id": "6c1240cc-c501-4b3d-a45a-efd3457e5693",
   "metadata": {},
   "source": [
    "## 2.0 Visualisations"
   ]
  },
  {
   "cell_type": "markdown",
   "id": "739ab48d-1c24-4e30-bc2a-64c116a51f09",
   "metadata": {},
   "source": [
    "### 2.1 Time Series Graphs"
   ]
  },
  {
   "cell_type": "code",
   "execution_count": 4,
   "id": "a714e875-9352-4840-8487-8c4586e45bab",
   "metadata": {},
   "outputs": [],
   "source": [
    "# Dropdown for granularity\n",
    "granularity_dropdown = widgets.Dropdown(\n",
    "    options=list(dataframes.keys()),\n",
    "    value='daily',\n",
    "    description='Granularity:',\n",
    "    disabled=False,\n",
    ")\n",
    "\n",
    "# Dropdown for location, initialized empty\n",
    "location_dropdown = widgets.Dropdown(\n",
    "    options=[],\n",
    "    value=None,\n",
    "    description='Location:',\n",
    "    disabled=False,\n",
    ")\n",
    "\n",
    "# Dropdown for variables, initialized empty\n",
    "variable_dropdown = widgets.Dropdown(\n",
    "    options=[],\n",
    "    value=None,\n",
    "    description='Variable:',\n",
    "    disabled=False,\n",
    ")\n",
    "\n",
    "# Function to update locations based on dataframe selection\n",
    "def update_locations(*args):\n",
    "    df = dataframes[granularity_dropdown.value]\n",
    "    locations = sorted(df['location'].unique())\n",
    "    location_dropdown.options = locations\n",
    "    location_dropdown.value = locations[0] if locations else None\n",
    "\n",
    "# Function to update variables based on dataframe selection\n",
    "def update_variables(*args):\n",
    "    df = dataframes[granularity_dropdown.value]\n",
    "    variables = sorted(df.select_dtypes(include=[np.number]).columns.tolist())\n",
    "    variable_dropdown.options = variables\n",
    "    variable_dropdown.value = variables[0] if variables else None\n",
    "\n",
    "# Attach the update function to granularity dropdown value changes\n",
    "granularity_dropdown.observe(update_locations, 'value')\n",
    "granularity_dropdown.observe(update_variables, 'value')\n",
    "\n",
    "# Plotting function\n",
    "def plot_data(granularity, location, variable):\n",
    "    if location and variable:\n",
    "        df = dataframes[granularity]\n",
    "        data = df[df['location'] == location]\n",
    "        data_sorted = data.sort_values('time')\n",
    "        plt.style.use('ggplot')\n",
    "        fig, ax = plt.subplots(figsize=(12, 6))\n",
    "        ax.plot(data_sorted['time'], data_sorted[variable], marker='o', linestyle='-', label=variable)\n",
    "        ax.set_title(f'{variable.capitalize()} over Time at {location} ({granularity.capitalize()})', fontsize=16)\n",
    "        ax.set_xlabel('Time', fontsize=14)\n",
    "        ax.set_ylabel(variable.replace('_', ' ').capitalize(), fontsize=14)\n",
    "        ax.xaxis.set_major_formatter(mdates.DateFormatter('%Y-%m-%d %H:%M'))\n",
    "        ax.xaxis.set_major_locator(mdates.AutoDateLocator())\n",
    "        fig.autofmt_xdate()\n",
    "        ax.grid(True)\n",
    "        ax.legend()\n",
    "        plt.tight_layout()\n",
    "        plt.show()\n"
   ]
  },
  {
   "cell_type": "code",
   "execution_count": 5,
   "id": "1d94f667-1a47-40d3-85a2-eeef3c89cedc",
   "metadata": {},
   "outputs": [
    {
     "data": {
      "application/vnd.jupyter.widget-view+json": {
       "model_id": "eea45d7619f241fca44b97297843041e",
       "version_major": 2,
       "version_minor": 0
      },
      "text/plain": [
       "Dropdown(description='Granularity:', index=2, options=('minutely', 'hourly', 'daily'), value='daily')"
      ]
     },
     "metadata": {},
     "output_type": "display_data"
    },
    {
     "data": {
      "application/vnd.jupyter.widget-view+json": {
       "model_id": "8e9dc8a420ea4e51b05e4d972e81d31a",
       "version_major": 2,
       "version_minor": 0
      },
      "text/plain": [
       "Dropdown(description='Location:', options=('25.8600,-97.4200', '25.9000,-97.4000', '25.9000,-97.4400', '25.900…"
      ]
     },
     "metadata": {},
     "output_type": "display_data"
    },
    {
     "data": {
      "application/vnd.jupyter.widget-view+json": {
       "model_id": "fc86bd9221a04d5da31f9d4c8220e03c",
       "version_major": 2,
       "version_minor": 0
      },
      "text/plain": [
       "Dropdown(description='Variable:', options=('cloud_base_avg', 'cloud_base_max', 'cloud_base_min', 'cloud_ceilin…"
      ]
     },
     "metadata": {},
     "output_type": "display_data"
    },
    {
     "data": {
      "application/vnd.jupyter.widget-view+json": {
       "model_id": "7fcaf28a59194a3da609fd85e05d9c80",
       "version_major": 2,
       "version_minor": 0
      },
      "text/plain": [
       "Output()"
      ]
     },
     "metadata": {},
     "output_type": "display_data"
    }
   ],
   "source": [
    "interactive_plot = widgets.interactive_output(\n",
    "    plot_data, {'granularity': granularity_dropdown, 'location': location_dropdown, 'variable': variable_dropdown}\n",
    ")\n",
    "\n",
    "update_locations()\n",
    "update_variables()\n",
    "display(granularity_dropdown, location_dropdown, variable_dropdown, interactive_plot)"
   ]
  },
  {
   "cell_type": "markdown",
   "id": "0fcd9fec-0ba5-4fd0-9036-9809e6cb4e10",
   "metadata": {},
   "source": [
    "## 2.1 Map Visualisation"
   ]
  },
  {
   "cell_type": "code",
   "execution_count": 35,
   "id": "f9366de0-10ca-4e56-97a0-3d26a0f93722",
   "metadata": {},
   "outputs": [
    {
     "data": {
      "application/vnd.jupyter.widget-view+json": {
       "model_id": "86a643782c634f19bb4973b8d621b1db",
       "version_major": 2,
       "version_minor": 0
      },
      "text/plain": [
       "Dropdown(description='Granularity:', index=2, options=('minutely', 'hourly', 'daily'), value='daily')"
      ]
     },
     "metadata": {},
     "output_type": "display_data"
    },
    {
     "data": {
      "application/vnd.jupyter.widget-view+json": {
       "model_id": "a45d9ac17c3e4adfb230f0f63aa4045e",
       "version_major": 2,
       "version_minor": 0
      },
      "text/plain": [
       "Dropdown(description='Variable:', options=('cloud_base_avg', 'cloud_base_max', 'cloud_base_min', 'cloud_ceilin…"
      ]
     },
     "metadata": {},
     "output_type": "display_data"
    },
    {
     "data": {
      "application/vnd.jupyter.widget-view+json": {
       "model_id": "af73a09947e94760abc9d0200fe55684",
       "version_major": 2,
       "version_minor": 0
      },
      "text/plain": [
       "Output()"
      ]
     },
     "metadata": {},
     "output_type": "display_data"
    }
   ],
   "source": [
    "pio.renderers.default = \"iframe\"\n",
    "\n",
    "# Parse the location strings into numeric latitude and longitude\n",
    "for df in dataframes.values():\n",
    "    lat_lon = df['location'].str.split(',', expand=True).astype(float)\n",
    "    df['latitude'] = lat_lon[0]\n",
    "    df['longitude'] = lat_lon[1]\n",
    "\n",
    "# Initialize widgets\n",
    "granularity_dropdown = widgets.Dropdown(\n",
    "    options=list(dataframes.keys()),\n",
    "    value='daily',\n",
    "    description='Granularity:',\n",
    ")\n",
    "\n",
    "variable_dropdown = widgets.Dropdown(\n",
    "    description='Variable:',\n",
    ")\n",
    "\n",
    "# Function to update variable dropdown options based on selected dataframe\n",
    "def update_variable_options(*args):\n",
    "    df = dataframes[granularity_dropdown.value]\n",
    "    numeric_cols = df.select_dtypes(include=np.number).columns.tolist()\n",
    "    variable_dropdown.options = numeric_cols\n",
    "    variable_dropdown.value = numeric_cols[0]\n",
    "\n",
    "granularity_dropdown.observe(update_variable_options, 'value')\n",
    "update_variable_options()\n",
    "\n",
    "# Plotting function using Plotly for bubble map\n",
    "def plot_bubble_map(granularity, variable):\n",
    "    df = dataframes[granularity].copy()\n",
    "\n",
    "    lat_lon = df['location'].str.split(',', expand=True).astype(float)\n",
    "    df['latitude'] = lat_lon[0]\n",
    "    df['longitude'] = lat_lon[1]\n",
    "\n",
    "    df = df.dropna(subset=['latitude', 'longitude'])\n",
    "\n",
    "    df['time'] = df['time'].astype(str)\n",
    "    df = df.sort_values('time')\n",
    "\n",
    "    df[variable] = df.groupby('location')[variable].transform(lambda x: x.ffill())\n",
    "\n",
    "    buffer = 0.5\n",
    "    lon_min, lon_max = df['longitude'].min() - buffer, df['longitude'].max() + buffer\n",
    "    lat_min, lat_max = df['latitude'].min() - buffer, df['latitude'].max() + buffer\n",
    "\n",
    "    frames = []\n",
    "    times = df['time'].unique()\n",
    "    max_bubble_size = 200\n",
    "    for time in times:\n",
    "        frame_df = df[df['time'] == time]\n",
    "        frames.append(\n",
    "            go.Frame(\n",
    "                data=[go.Scattergeo(\n",
    "                    lon=frame_df['longitude'],\n",
    "                    lat=frame_df['latitude'],\n",
    "                    text=frame_df['location'],\n",
    "                    mode='markers',\n",
    "                    marker=dict(\n",
    "                        size=np.sqrt(frame_df[variable]) * max_bubble_size / np.sqrt(frame_df[variable].max()),\n",
    "                        color=frame_df[variable],\n",
    "                        colorscale='Viridis',\n",
    "                        showscale=True,\n",
    "                        sizemode='area',\n",
    "                    )\n",
    "                )],\n",
    "                name=time\n",
    "            )\n",
    "        )\n",
    "\n",
    "    initial_data = frames[0].data\n",
    "\n",
    "    steps = []\n",
    "    for i, time in enumerate(times):\n",
    "        step = dict(\n",
    "            method=\"animate\",\n",
    "            args=[[time], {\"frame\": {\"duration\": 500, \"redraw\": True}, \"transition\": {\"duration\": 300}}],\n",
    "            label=time\n",
    "        )\n",
    "        steps.append(step)\n",
    "\n",
    "    sliders = [dict(\n",
    "        steps=steps,\n",
    "        active=0,\n",
    "        currentvalue={\"prefix\": \"Time: \"},\n",
    "        pad={\"t\": 50}\n",
    "    )]\n",
    "\n",
    "    layout = go.Layout(\n",
    "        title=f'{variable.capitalize()} over Time',\n",
    "        showlegend=False,\n",
    "        width = 1000,\n",
    "        height = 1000,\n",
    "        geo=dict(\n",
    "            scope='north america',\n",
    "            showcountries=True,\n",
    "            landcolor=\"rgb(212, 212, 212)\",\n",
    "            showocean=True,\n",
    "            oceancolor=\"lightskyblue\",\n",
    "            countrycolor=\"black\",\n",
    "            countrywidth=2,\n",
    "            projection=dict(\n",
    "                type=\"mercator\"\n",
    "            ),\n",
    "            center=dict(\n",
    "                lat=(lat_min + lat_max) / 2,\n",
    "                lon=(lon_min + lon_max) / 2\n",
    "            ),\n",
    "            lataxis={\"range\": [lat_min, lat_max]},\n",
    "            lonaxis={\"range\": [lon_min, lon_max]},\n",
    "        ),\n",
    "        sliders=[sliders[0]],\n",
    "        updatemenus=[{\n",
    "            'buttons': [\n",
    "                {\n",
    "                    'args': [None, {'frame': {'duration': 500, 'redraw': True}, 'fromcurrent': True, 'transition': {'duration': 300}}],\n",
    "                    'label': 'Play',\n",
    "                    'method': 'animate'\n",
    "                },\n",
    "                {\n",
    "                    'args': [[None], {'frame': {'duration': 0, 'redraw': True}, 'mode': 'immediate', 'transition': {'duration': 0}}],\n",
    "                    'label': 'Pause',\n",
    "                    'method': 'animate'\n",
    "                }\n",
    "            ],\n",
    "            'direction': 'left',\n",
    "            'pad': {'r': 10},\n",
    "            'showactive': False,\n",
    "            'type': 'buttons',\n",
    "            'x': 0.1,\n",
    "            'xanchor': 'right',\n",
    "            'y': 0,\n",
    "            'yanchor': 'top'\n",
    "        }]\n",
    "    )\n",
    "\n",
    "    fig = go.Figure(data=initial_data, layout=layout, frames=frames)\n",
    "    fig.show()\n",
    "\n",
    "# Call the plot function with the interactive output widget\n",
    "interactive_plot = widgets.interactive_output(\n",
    "    plot_bubble_map, \n",
    "    {'granularity': granularity_dropdown, 'variable': variable_dropdown}\n",
    ")\n",
    "\n",
    "# Display widgets and interactive plot\n",
    "display(granularity_dropdown, variable_dropdown, interactive_plot)\n"
   ]
  },
  {
   "cell_type": "markdown",
   "id": "a0eb469b-5db3-4ead-baa3-1a257c42f1e9",
   "metadata": {},
   "source": []
  },
  {
   "cell_type": "code",
   "execution_count": null,
   "id": "a0b695c6-bf3b-4b97-af9c-b0fbc44c1ca2",
   "metadata": {},
   "outputs": [],
   "source": []
  },
  {
   "cell_type": "code",
   "execution_count": null,
   "id": "f2e3c1d1-b7cf-485e-a12a-e56713b676c0",
   "metadata": {},
   "outputs": [],
   "source": []
  }
 ],
 "metadata": {
  "kernelspec": {
   "display_name": "Python 3 (ipykernel)",
   "language": "python",
   "name": "python3"
  },
  "language_info": {
   "codemirror_mode": {
    "name": "ipython",
    "version": 3
   },
   "file_extension": ".py",
   "mimetype": "text/x-python",
   "name": "python",
   "nbconvert_exporter": "python",
   "pygments_lexer": "ipython3",
   "version": "3.11.7"
  }
 },
 "nbformat": 4,
 "nbformat_minor": 5
}
